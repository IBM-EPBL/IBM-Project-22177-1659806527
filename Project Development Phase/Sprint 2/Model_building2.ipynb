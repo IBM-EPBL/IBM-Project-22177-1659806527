{
  "cells": [
    {
      "cell_type": "markdown",
      "source": [
        "#TEAM ID : PNT2022TMID04039"
      ],
      "metadata": {
        "id": "SGmCyv7BgSNf"
      }
    },
    {
      "cell_type": "code",
      "execution_count": 1,
      "metadata": {
        "id": "eDb88nAH-YXJ"
      },
      "outputs": [],
      "source": [
        "#importing libraries\n",
        "import keras\n",
        "from keras.datasets import mnist\n",
        "import numpy as np\n",
        "from keras.models import Sequential\n",
        "from keras.layers.core import Dense, Activation, Flatten, Dropout\n",
        "from keras.layers.convolutional import Conv2D\n",
        "from keras.layers.pooling import MaxPooling2D\n",
        "from keras import regularizers\n",
        "from keras import metrics\n",
        "from keras.utils.np_utils import to_categorical\n",
        "from keras import optimizers\n",
        "from scipy import misc\n",
        "import numpy as np"
      ]
    },
    {
      "cell_type": "code",
      "execution_count": 2,
      "metadata": {
        "colab": {
          "base_uri": "https://localhost:8080/"
        },
        "id": "BT8wVJww-ndo",
        "outputId": "3eed391a-b63b-4d7d-f29b-c2d40cc26876"
      },
      "outputs": [
        {
          "output_type": "stream",
          "name": "stdout",
          "text": [
            "Downloading data from https://storage.googleapis.com/tensorflow/tf-keras-datasets/mnist.npz\n",
            "11490434/11490434 [==============================] - 2s 0us/step\n"
          ]
        }
      ],
      "source": [
        "(X_train, Y_train), (X_test, Y_test) = mnist.load_data()"
      ]
    },
    {
      "cell_type": "code",
      "execution_count": 3,
      "metadata": {
        "colab": {
          "base_uri": "https://localhost:8080/"
        },
        "id": "wJ8wIyy_-4_F",
        "outputId": "e32abae8-873f-4a1b-8f9b-51f9835c9dc1"
      },
      "outputs": [
        {
          "output_type": "stream",
          "name": "stdout",
          "text": [
            "(60000, 28, 28) (60000,)\n"
          ]
        }
      ],
      "source": [
        "print(X_train.shape, Y_train.shape)"
      ]
    },
    {
      "cell_type": "code",
      "execution_count": 4,
      "metadata": {
        "id": "ghA8gq4--kdv"
      },
      "outputs": [],
      "source": [
        "# reshape the data so as to fit the format of (samples, height, width, channels)\n",
        "X_train = X_train.reshape(60000, 28, 28, 1).astype('float32')\n",
        "X_test = X_test.reshape(10000, 28, 28, 1).astype('float32')\n",
        "\n",
        "Y_train = Y_train.reshape(60000)\n",
        "Y_test = Y_test.reshape(10000)\n",
        "\n",
        "Y_train = to_categorical(Y_train, 10)\n",
        "Y_test = to_categorical(Y_test, 10)\n",
        "\n"
      ]
    },
    {
      "cell_type": "code",
      "execution_count": 5,
      "metadata": {
        "id": "CDNVUe99_KJg"
      },
      "outputs": [],
      "source": [
        "# MODEL DEFINITION\n",
        "model = Sequential()\n",
        "\n",
        "model.add(Conv2D(filters=20, kernel_size=(6,6), kernel_regularizer=regularizers.l2(0.04), strides=(1,1), padding='valid', activation='relu', data_format='channels_last', input_shape=(28,28,1)))\n",
        "model.add(Conv2D(filters=20, kernel_size=(3,3), kernel_regularizer=regularizers.l2(0.04), strides=(1,1), padding='valid', activation='relu'))\n",
        "model.add(MaxPooling2D(pool_size=(4,4), strides=(1,1)))\n",
        "model.add(Dropout(rate=0.05,seed=3))\n",
        "\n",
        "model.add(Conv2D(filters=10, kernel_size=(6,6), kernel_regularizer=regularizers.l2(0.04), strides=(1,1), padding='valid', activation='relu'))\n",
        "model.add(Conv2D(filters=10, kernel_size=(3,3), kernel_regularizer=regularizers.l2(0.04), strides=(1,1), padding='valid', activation='relu'))\n",
        "model.add(MaxPooling2D(pool_size=(4,4), strides=(1,1)))\n",
        "model.add(Dropout(rate=0.05,seed=8))\n",
        "model.add(Flatten())\n",
        "\n",
        "model.add(Dense(units=30, activation='tanh', kernel_regularizer=regularizers.l2(0.04)))\n",
        "model.add(Dense(units=10, activation='softmax', kernel_regularizer=regularizers.l2(0.04)))\n",
        "\n"
      ]
    },
    {
      "cell_type": "code",
      "execution_count": 6,
      "metadata": {
        "colab": {
          "base_uri": "https://localhost:8080/"
        },
        "id": "dVs80tjf-mAg",
        "outputId": "1929b110-966a-40e0-e787-47058ccc378b"
      },
      "outputs": [
        {
          "output_type": "stream",
          "name": "stderr",
          "text": [
            "/usr/local/lib/python3.7/dist-packages/keras/optimizers/optimizer_v2/gradient_descent.py:108: UserWarning: The `lr` argument is deprecated, use `learning_rate` instead.\n",
            "  super(SGD, self).__init__(name, **kwargs)\n"
          ]
        }
      ],
      "source": [
        "# MODEL COMPILATION\n",
        "# reduce the learning rate if training accuracy suddenly drops and keeps decreasing\n",
        "sgd = optimizers.SGD(lr=0.003) # lr by default is 0.01 for SGD\n",
        "\n",
        "model.compile(loss='categorical_crossentropy', optimizer=sgd, metrics=[metrics.categorical_accuracy])\n",
        "\n"
      ]
    },
    {
      "cell_type": "code",
      "execution_count": 7,
      "metadata": {
        "colab": {
          "base_uri": "https://localhost:8080/"
        },
        "id": "TJzqsmu-_mzr",
        "outputId": "4f49aa72-3afc-4c2a-fc33-c6893dae6b3c"
      },
      "outputs": [
        {
          "output_type": "stream",
          "name": "stdout",
          "text": [
            "Epoch 1/5\n",
            "1200/1200 [==============================] - 16s 6ms/step - loss: 5.0627 - categorical_accuracy: 0.5675\n",
            "Epoch 2/5\n",
            "1200/1200 [==============================] - 5s 4ms/step - loss: 2.6873 - categorical_accuracy: 0.9143\n",
            "Epoch 3/5\n",
            "1200/1200 [==============================] - 5s 4ms/step - loss: 1.7160 - categorical_accuracy: 0.9505\n",
            "Epoch 4/5\n",
            "1200/1200 [==============================] - 5s 4ms/step - loss: 1.2230 - categorical_accuracy: 0.9613\n",
            "Epoch 5/5\n",
            "1200/1200 [==============================] - 5s 4ms/step - loss: 0.9486 - categorical_accuracy: 0.9666\n"
          ]
        }
      ],
      "source": [
        "# MODEL FIT\n",
        "model.fit(X_train, Y_train, epochs=5, batch_size=50)\n",
        "model.save('mnist-classifier-model.h5')\n",
        "model.save_weights('mnist-classifier-weights.h5')\n",
        "\n"
      ]
    },
    {
      "cell_type": "code",
      "execution_count": 8,
      "metadata": {
        "colab": {
          "base_uri": "https://localhost:8080/"
        },
        "id": "6nf5Wemc_o4u",
        "outputId": "3c6f5cec-dafe-449a-f7ba-478592708721"
      },
      "outputs": [
        {
          "output_type": "stream",
          "name": "stdout",
          "text": [
            "\n",
            "Evaluating the model on test data. This won't take long. Relax!\n",
            "1000/1000 [==============================] - 3s 3ms/step - loss: 0.8243 - categorical_accuracy: 0.9770\n",
            "\n",
            "Accuracy on test data :  97.69999980926514\n",
            "\n",
            "Loss on test data :  0.8242666125297546\n"
          ]
        }
      ],
      "source": [
        "# MODEL EVALUATION\n",
        "print(\"\\nEvaluating the model on test data. This won't take long. Relax!\")\n",
        "test_loss, test_accuracy = model.evaluate(X_test, Y_test, batch_size=10)\n",
        "print(\"\\nAccuracy on test data : \", test_accuracy*100)\n",
        "print(\"\\nLoss on test data : \", test_loss)"
      ]
    },
    {
      "cell_type": "code",
      "source": [
        "#TEST THE MODEL\n",
        "prediction = model.predict(X_test[:4])\n",
        "print(prediction)"
      ],
      "metadata": {
        "colab": {
          "base_uri": "https://localhost:8080/"
        },
        "id": "28ElvuyqcmrJ",
        "outputId": "93d64c31-19cf-4920-8533-e75bd5cde9ba"
      },
      "execution_count": 9,
      "outputs": [
        {
          "output_type": "stream",
          "name": "stdout",
          "text": [
            "1/1 [==============================] - 0s 146ms/step\n",
            "[[0.00552364 0.01395816 0.01411558 0.03165388 0.00503101 0.01049465\n",
            "  0.00091657 0.8815433  0.009309   0.02745431]\n",
            " [0.04030754 0.03318598 0.82771784 0.01982366 0.00735839 0.00482082\n",
            "  0.02058108 0.01209613 0.02671191 0.00739667]\n",
            " [0.00538969 0.9012829  0.0158494  0.00913932 0.01340986 0.00374549\n",
            "  0.01759027 0.01883631 0.0076736  0.00708309]\n",
            " [0.8935922  0.00533478 0.01120698 0.00872513 0.00371715 0.01620317\n",
            "  0.03634179 0.00775124 0.00643945 0.0106882 ]]\n"
          ]
        }
      ]
    },
    {
      "cell_type": "code",
      "source": [
        "print(np.argmax(prediction, axis=1))\n",
        "print(Y_test[:4])"
      ],
      "metadata": {
        "colab": {
          "base_uri": "https://localhost:8080/"
        },
        "id": "n0Lop15Lc0ce",
        "outputId": "d710fc42-ee27-407b-8d43-a10b8ee242a6"
      },
      "execution_count": 10,
      "outputs": [
        {
          "output_type": "stream",
          "name": "stdout",
          "text": [
            "[7 2 1 0]\n",
            "[[0. 0. 0. 0. 0. 0. 0. 1. 0. 0.]\n",
            " [0. 0. 1. 0. 0. 0. 0. 0. 0. 0.]\n",
            " [0. 1. 0. 0. 0. 0. 0. 0. 0. 0.]\n",
            " [1. 0. 0. 0. 0. 0. 0. 0. 0. 0.]]\n"
          ]
        }
      ]
    },
    {
      "cell_type": "code",
      "source": [
        "#SAVE THE MODEL\n",
        "model.save('models/CNNmnist.h5')"
      ],
      "metadata": {
        "id": "4B9IV-eVd9pk"
      },
      "execution_count": 11,
      "outputs": []
    }
  ],
  "metadata": {
    "accelerator": "GPU",
    "colab": {
      "collapsed_sections": [],
      "provenance": []
    },
    "gpuClass": "standard",
    "kernelspec": {
      "display_name": "Python 3",
      "name": "python3"
    },
    "language_info": {
      "name": "python"
    }
  },
  "nbformat": 4,
  "nbformat_minor": 0
}