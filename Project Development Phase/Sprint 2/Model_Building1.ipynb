{
  "cells": [
    {
      "cell_type": "markdown",
      "metadata": {
        "id": "YhVFJIsn2WbQ"
      },
      "source": [
        "#TEAM ID : PNT2022TMID04039"
      ]
    },
    {
      "cell_type": "code",
      "execution_count": 1,
      "metadata": {
        "id": "s4vT_nKAwSsb"
      },
      "outputs": [],
      "source": [
        "import keras\n",
        "from keras.datasets import mnist\n",
        "from keras.models import Sequential\n",
        "from keras.layers import Dense, Dropout, Flatten\n",
        "from keras.layers import Conv2D, MaxPooling2D\n",
        "from keras import backend as K"
      ]
    },
    {
      "cell_type": "code",
      "execution_count": 2,
      "metadata": {
        "colab": {
          "base_uri": "https://localhost:8080/"
        },
        "id": "-RHu0uEw1Fn5",
        "outputId": "8550df10-d146-4cf4-fbc9-b581f936bd3f"
      },
      "outputs": [
        {
          "output_type": "stream",
          "name": "stdout",
          "text": [
            "Downloading data from https://storage.googleapis.com/tensorflow/tf-keras-datasets/mnist.npz\n",
            "11490434/11490434 [==============================] - 2s 0us/step\n"
          ]
        }
      ],
      "source": [
        "(x_train, y_train), (x_test, y_test) = mnist.load_data()\n",
        "\n"
      ]
    },
    {
      "cell_type": "code",
      "execution_count": 3,
      "metadata": {
        "colab": {
          "base_uri": "https://localhost:8080/"
        },
        "id": "OojvCsX61HaK",
        "outputId": "d37a7e42-eef5-4a13-e032-9996cbbd101a"
      },
      "outputs": [
        {
          "output_type": "stream",
          "name": "stdout",
          "text": [
            "(60000, 28, 28) (60000,)\n"
          ]
        }
      ],
      "source": [
        "print(x_train.shape, y_train.shape)\n",
        "\n"
      ]
    },
    {
      "cell_type": "code",
      "execution_count": 4,
      "metadata": {
        "id": "E0kvF0ZG1I1T"
      },
      "outputs": [],
      "source": [
        "x_train = x_train.reshape(x_train.shape[0], 28, 28, 1)\n",
        "x_test = x_test.reshape(x_test.shape[0], 28, 28, 1)\n",
        "input_shape = (28, 28, 1)"
      ]
    },
    {
      "cell_type": "code",
      "execution_count": 5,
      "metadata": {
        "id": "TGzvqTUE1RfV"
      },
      "outputs": [],
      "source": [
        "y_train = keras.utils.to_categorical(y_train, 10)\n",
        "y_test = keras.utils.to_categorical(y_test, 10)"
      ]
    },
    {
      "cell_type": "code",
      "execution_count": 6,
      "metadata": {
        "colab": {
          "base_uri": "https://localhost:8080/"
        },
        "id": "nASUICfZ1V4G",
        "outputId": "40b8dc5c-fe06-4bc5-e9ce-6271c1eaef42"
      },
      "outputs": [
        {
          "output_type": "stream",
          "name": "stdout",
          "text": [
            "x_train shape: (60000, 28, 28, 1)\n",
            "60000 train samples\n",
            "10000 test samples\n"
          ]
        }
      ],
      "source": [
        "x_train = x_train.astype('float32')\n",
        "x_test = x_test.astype('float32')\n",
        "x_train /= 255\n",
        "x_test /= 255\n",
        "print('x_train shape:', x_train.shape)\n",
        "print(x_train.shape[0], 'train samples')\n",
        "print(x_test.shape[0], 'test samples')"
      ]
    },
    {
      "cell_type": "code",
      "execution_count": 7,
      "metadata": {
        "id": "oO4ekXz_1XTv"
      },
      "outputs": [],
      "source": [
        "batch_size = 128\n",
        "num_classes = 10\n",
        "epochs = 10"
      ]
    },
    {
      "cell_type": "code",
      "execution_count": 8,
      "metadata": {
        "id": "X2xjiMVW1aVs"
      },
      "outputs": [],
      "source": [
        "model = Sequential()\n",
        "model.add(Conv2D(32, kernel_size=(5, 5),activation='relu',input_shape=input_shape))\n",
        "model.add(MaxPooling2D(pool_size=(2, 2)))\n",
        "model.add(Conv2D(64, (3, 3), activation='relu'))\n",
        "model.add(MaxPooling2D(pool_size=(2, 2)))\n",
        "model.add(Flatten())\n",
        "model.add(Dense(128, activation='relu'))\n",
        "model.add(Dropout(0.3))\n",
        "model.add(Dense(64, activation='relu'))\n",
        "model.add(Dropout(0.5))\n",
        "model.add(Dense(num_classes, activation='softmax'))"
      ]
    },
    {
      "cell_type": "code",
      "execution_count": 9,
      "metadata": {
        "id": "XOnHLJE11eZp"
      },
      "outputs": [],
      "source": [
        "model.compile(loss=keras.losses.categorical_crossentropy,optimizer=keras.optimizers.Adadelta(),metrics=['accuracy'])\n",
        "\n"
      ]
    },
    {
      "cell_type": "code",
      "execution_count": 10,
      "metadata": {
        "colab": {
          "base_uri": "https://localhost:8080/"
        },
        "id": "o_CkpdjJ1ifz",
        "outputId": "e8b54943-61e4-45ed-83c6-08057c0f838a"
      },
      "outputs": [
        {
          "output_type": "stream",
          "name": "stdout",
          "text": [
            "Epoch 1/10\n",
            "469/469 [==============================] - 13s 7ms/step - loss: 2.3033 - accuracy: 0.1040 - val_loss: 2.2908 - val_accuracy: 0.1491\n",
            "Epoch 2/10\n",
            "469/469 [==============================] - 3s 6ms/step - loss: 2.2903 - accuracy: 0.1265 - val_loss: 2.2772 - val_accuracy: 0.1735\n",
            "Epoch 3/10\n",
            "469/469 [==============================] - 3s 6ms/step - loss: 2.2787 - accuracy: 0.1435 - val_loss: 2.2636 - val_accuracy: 0.2168\n",
            "Epoch 4/10\n",
            "469/469 [==============================] - 3s 6ms/step - loss: 2.2674 - accuracy: 0.1600 - val_loss: 2.2498 - val_accuracy: 0.2720\n",
            "Epoch 5/10\n",
            "469/469 [==============================] - 3s 6ms/step - loss: 2.2545 - accuracy: 0.1805 - val_loss: 2.2349 - val_accuracy: 0.3280\n",
            "Epoch 6/10\n",
            "469/469 [==============================] - 3s 6ms/step - loss: 2.2431 - accuracy: 0.1962 - val_loss: 2.2183 - val_accuracy: 0.3812\n",
            "Epoch 7/10\n",
            "469/469 [==============================] - 3s 6ms/step - loss: 2.2284 - accuracy: 0.2133 - val_loss: 2.1996 - val_accuracy: 0.4277\n",
            "Epoch 8/10\n",
            "469/469 [==============================] - 3s 6ms/step - loss: 2.2127 - accuracy: 0.2312 - val_loss: 2.1790 - val_accuracy: 0.4667\n",
            "Epoch 9/10\n",
            "469/469 [==============================] - 3s 6ms/step - loss: 2.1947 - accuracy: 0.2481 - val_loss: 2.1563 - val_accuracy: 0.4926\n",
            "Epoch 10/10\n",
            "469/469 [==============================] - 3s 6ms/step - loss: 2.1765 - accuracy: 0.2620 - val_loss: 2.1314 - val_accuracy: 0.5165\n",
            "The model has successfully trained\n"
          ]
        }
      ],
      "source": [
        "hist = model.fit(x_train, y_train,batch_size=batch_size,epochs=epochs,verbose=1,validation_data=(x_test, y_test))\n",
        "print(\"The model has successfully trained\")"
      ]
    },
    {
      "cell_type": "code",
      "execution_count": 11,
      "metadata": {
        "id": "3QccwIpP1mr3",
        "colab": {
          "base_uri": "https://localhost:8080/"
        },
        "outputId": "77bdad41-376b-46e1-862b-04529b2b7a53"
      },
      "outputs": [
        {
          "output_type": "stream",
          "name": "stdout",
          "text": [
            "Test loss: 2.1314213275909424\n",
            "Test accuracy: 0.5164999961853027\n"
          ]
        }
      ],
      "source": [
        "score = model.evaluate(x_test, y_test, verbose=0)\n",
        "print('Test loss:', score[0])\n",
        "print('Test accuracy:', score[1])"
      ]
    }
  ],
  "metadata": {
    "colab": {
      "collapsed_sections": [],
      "provenance": []
    },
    "kernelspec": {
      "display_name": "Python 3",
      "name": "python3"
    },
    "language_info": {
      "name": "python"
    },
    "accelerator": "GPU",
    "gpuClass": "standard"
  },
  "nbformat": 4,
  "nbformat_minor": 0
}